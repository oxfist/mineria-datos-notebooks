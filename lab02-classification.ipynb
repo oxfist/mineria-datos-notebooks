{
  "cells": [
    {
      "cell_type": "markdown",
      "metadata": {
        "id": "p_XcuC2rXQWb",
        "pycharm": {}
      },
      "source": [
        "# Laboratorio 2: Clasificación\n",
        "\n",
        "Minería de Datos - Mayo 2024"
      ]
    },
    {
      "cell_type": "markdown",
      "metadata": {
        "id": "c9ohYCUFXADR"
      },
      "source": [
        "**Pregunta 1**\n",
        "\n",
        "Para realizar la evaluación de distintos clasificadores, vamos a crear la función `run_classifier()`, la cual evalúa un clasificador `clf` recibido como parámetro, un dataset `X,y` (features y target) y un número de tests llamado `num_test`. Esta función almacena y retorna los valores de precision, recall y f1-score en la variable `metrics` además de los resultados de predicción.\n",
        "\n",
        "En base a lo anterior, incluya las sentencias que entrenen el modelo junto a su correspondiente predicción sobre los datos. **No use cross-validation ni tampoco el parámetro `random_state`.**\n"
      ]
    },
    {
      "cell_type": "code",
      "execution_count": 1,
      "metadata": {
        "ExecuteTime": {
          "end_time": "2020-09-28T01:11:34.028494Z",
          "start_time": "2020-09-28T01:11:34.018999Z"
        },
        "id": "TndzyqreXADS"
      },
      "outputs": [],
      "source": [
        "from sklearn.metrics import f1_score, recall_score, precision_score\n",
        "from sklearn.model_selection import train_test_split\n",
        "from sklearn.datasets import load_breast_cancer\n",
        "from sklearn.dummy import DummyClassifier\n",
        "from sklearn.tree import DecisionTreeClassifier\n",
        "from sklearn.naive_bayes import GaussianNB\n",
        "from sklearn.neighbors import KNeighborsClassifier\n",
        "from sklearn.svm import SVC\n",
        "\n",
        "import numpy as np\n",
        "\n",
        "def run_classifier(model, X, y, num_tests=100):\n",
        "    metrics = {'precision': [], 'recall': [], 'f1-score': []}\n",
        "\n",
        "    for _ in range(num_tests):\n",
        "        X_train, X_test, y_train, y_test = train_test_split(X, y, test_size=.30)\n",
        "\n",
        "        model = model.fit(X_train, y_train)\n",
        "        predictions = model.predict(X_test)\n",
        "\n",
        "        # 0=Malignant, 1=Benign. In sklearn metrics, positive label is by default=1\n",
        "        metrics['y_pred'] = predictions\n",
        "        metrics['precision'].append(precision_score(y_test, predictions, pos_label=0))\n",
        "        metrics['recall'].append(recall_score(y_test, predictions, pos_label=0))\n",
        "        metrics['f1-score'].append(f1_score(y_test, predictions, pos_label=0))\n",
        "    return metrics"
      ]
    },
    {
      "cell_type": "markdown",
      "metadata": {
        "id": "VjXFx9xIXADU"
      },
      "source": [
        "Luego de completar el código anterior, ejecute el siguiente bloque para comparar distintos clasificadores.\n",
        "Usaremos un **dataset de cáncer de mamas** para evaluar. La información del dataset se puede encontrar en el siguiente link: https://scikit-learn.org/stable/modules/generated/sklearn.datasets.load_breast_cancer.html"
      ]
    },
    {
      "cell_type": "code",
      "execution_count": 2,
      "metadata": {
        "ExecuteTime": {
          "end_time": "2020-09-28T01:11:37.747387Z",
          "start_time": "2020-09-28T01:11:34.031505Z"
        },
        "colab": {
          "base_uri": "https://localhost:8080/"
        },
        "id": "-P2TfM7_XADU",
        "outputId": "f137ada2-866c-4b83-aaa4-f1a318e00739",
        "scrolled": false
      },
      "outputs": [
        {
          "name": "stdout",
          "output_type": "stream",
          "text": [
            "----------------\n",
            "Resultados para clasificador:  Base Dummy\n",
            "Precision promedio: 0.38131012935147723\n",
            "Recall promedio: 0.3706435971048224\n",
            "F1-score promedio: 0.37380123958298866\n",
            "----------------\n",
            "\n",
            "\n",
            "----------------\n",
            "Resultados para clasificador:  Decision Tree\n",
            "Precision promedio: 0.9164341659428733\n",
            "Recall promedio: 0.9020819665323709\n",
            "F1-score promedio: 0.9081408426656133\n",
            "----------------\n",
            "\n",
            "\n",
            "----------------\n",
            "Resultados para clasificador:  Gaussian Naive Bayes\n",
            "Precision promedio: 0.946170615225485\n",
            "Recall promedio: 0.8920917343506893\n",
            "F1-score promedio: 0.9177258061278757\n",
            "----------------\n",
            "\n",
            "\n",
            "----------------\n",
            "Resultados para clasificador:  KNN\n",
            "Precision promedio: 0.9373228884208353\n",
            "Recall promedio: 0.8831124923365306\n",
            "F1-score promedio: 0.9087424546435764\n",
            "----------------\n",
            "\n",
            "\n",
            "----------------\n",
            "Resultados para clasificador:  Support Vector Machines\n",
            "Precision promedio: 0.9634421587106455\n",
            "Recall promedio: 0.793587498011406\n",
            "F1-score promedio: 0.8689146451717339\n",
            "----------------\n",
            "\n",
            "\n"
          ]
        }
      ],
      "source": [
        "bc = load_breast_cancer()\n",
        "\n",
        "dataset = bc.data\n",
        "targets = bc.target\n",
        "results = {}\n",
        "\n",
        "c0 = (\"Base Dummy\", DummyClassifier(strategy='stratified'))\n",
        "c1 = (\"Decision Tree\", DecisionTreeClassifier(max_depth=5))\n",
        "c2 = (\"Gaussian Naive Bayes\", GaussianNB())\n",
        "c3 = (\"KNN\", KNeighborsClassifier(n_neighbors=10))\n",
        "c4 = (\"Support Vector Machines\", SVC())\n",
        "\n",
        "models = [c0, c1, c2, c3, c4]\n",
        "\n",
        "for name, model in models:\n",
        "    metrics = run_classifier(model, dataset, targets)\n",
        "    results[name] = metrics\n",
        "\n",
        "    print(\"----------------\")\n",
        "    print(\"Resultados para clasificador: \", name)\n",
        "    print(\"Precision promedio:\", np.array(metrics['precision']).mean())\n",
        "    print(\"Recall promedio:\", np.array(metrics['recall']).mean())\n",
        "    print(\"F1-score promedio:\", np.array(metrics['f1-score']).mean())\n",
        "    print(\"----------------\\n\\n\")"
      ]
    },
    {
      "cell_type": "markdown",
      "metadata": {
        "id": "mcdnXXH6XADX"
      },
      "source": [
        "**Pregunta 2**\n",
        "\n",
        "Analizando los resultados obtenidos de cada clasificador, y basándose en las métricas calculadas. ¿Cuál es el mejor clasificador? ¿Qué métricas observó para tomar esa decisión y por qué? considerando el problema que aborda. Fundamente su respuesta.\n",
        "\n",
        "(Considere *malignant* como clase positiva, y *benign* como clase negativa.)"
      ]
    },
    {
      "cell_type": "markdown",
      "metadata": {
        "id": "w4y5d8pjXADX"
      },
      "source": [
        "**Repuesta:** Considerando el contexto de diagnóstico de cáncer de mamas, la métrica que mejor permite optimizar el modelo es Recall. Por lo tanto el modelo Decision Tree es el mejor clasificador.\n",
        "\n",
        "\n"
      ]
    },
    {
      "cell_type": "markdown",
      "metadata": {
        "ExecuteTime": {
          "end_time": "2020-09-28T00:01:32.541764Z",
          "start_time": "2020-09-28T00:01:32.538758Z"
        },
        "id": "dcgTjBD7XADZ"
      },
      "source": [
        "# Seleccionar hiperparámetros"
      ]
    },
    {
      "cell_type": "markdown",
      "metadata": {
        "id": "0p7LwuvEXADa"
      },
      "source": [
        "**Dataset:** En esta y la siguiente parte del laboratorio utilizaremos el dataset **\"ML Classification: Predicting 5-Year Career Longevity for NBA Rookies\"** de data.world (https://data.world/ssaudz/ml-classification-predicting-5-year-career-longevity-for-nb). Este dataset contiene estadísticas de los novatos en la NBA y busca predecir si un jugador podrá durar 5 años en la liga. La columna objetivo es *TARGET_5Yrs*. Esta es una versión preprocesada del dataset original (después de eliminar registros duplicados por nombre del jugador, anonimizar los datos, y eliminar los registros con valores nulos)."
      ]
    },
    {
      "cell_type": "code",
      "execution_count": 3,
      "metadata": {
        "colab": {
          "base_uri": "https://localhost:8080/"
        },
        "id": "cN08ZLJfYpPR",
        "outputId": "05cbb85e-ea99-443c-f565-866be7a0be6d",
        "scrolled": true
      },
      "outputs": [
        {
          "data": {
            "text/plain": [
              "(1284, 20)"
            ]
          },
          "execution_count": 3,
          "metadata": {},
          "output_type": "execute_result"
        }
      ],
      "source": [
        "import pandas as pd\n",
        "nba_rookies = pd.read_csv('https://raw.githubusercontent.com/cinthiasanchez/data-mining/main/NBA_career_longevity.csv')\n",
        "nba_rookies.shape"
      ]
    },
    {
      "cell_type": "code",
      "execution_count": 4,
      "metadata": {
        "colab": {
          "base_uri": "https://localhost:8080/",
          "height": 112
        },
        "id": "gO37r3UbYpPS",
        "outputId": "b9a93d0a-0614-497c-f8c6-53e4ec93c876"
      },
      "outputs": [
        {
          "data": {
            "text/html": [
              "<div>\n",
              "<style scoped>\n",
              "    .dataframe tbody tr th:only-of-type {\n",
              "        vertical-align: middle;\n",
              "    }\n",
              "\n",
              "    .dataframe tbody tr th {\n",
              "        vertical-align: top;\n",
              "    }\n",
              "\n",
              "    .dataframe thead th {\n",
              "        text-align: right;\n",
              "    }\n",
              "</style>\n",
              "<table border=\"1\" class=\"dataframe\">\n",
              "  <thead>\n",
              "    <tr style=\"text-align: right;\">\n",
              "      <th></th>\n",
              "      <th>GP</th>\n",
              "      <th>MIN</th>\n",
              "      <th>PTS</th>\n",
              "      <th>FGM</th>\n",
              "      <th>FGA</th>\n",
              "      <th>FG%</th>\n",
              "      <th>3P Made</th>\n",
              "      <th>3PA</th>\n",
              "      <th>3P%</th>\n",
              "      <th>FTM</th>\n",
              "      <th>FTA</th>\n",
              "      <th>FT%</th>\n",
              "      <th>OREB</th>\n",
              "      <th>DREB</th>\n",
              "      <th>REB</th>\n",
              "      <th>AST</th>\n",
              "      <th>STL</th>\n",
              "      <th>BLK</th>\n",
              "      <th>TOV</th>\n",
              "      <th>TARGET_5Yrs</th>\n",
              "    </tr>\n",
              "  </thead>\n",
              "  <tbody>\n",
              "    <tr>\n",
              "      <th>0</th>\n",
              "      <td>36</td>\n",
              "      <td>27.4</td>\n",
              "      <td>7.4</td>\n",
              "      <td>2.6</td>\n",
              "      <td>7.6</td>\n",
              "      <td>34.7</td>\n",
              "      <td>0.5</td>\n",
              "      <td>2.1</td>\n",
              "      <td>25.0</td>\n",
              "      <td>1.6</td>\n",
              "      <td>2.3</td>\n",
              "      <td>69.9</td>\n",
              "      <td>0.7</td>\n",
              "      <td>3.4</td>\n",
              "      <td>4.1</td>\n",
              "      <td>1.9</td>\n",
              "      <td>0.4</td>\n",
              "      <td>0.4</td>\n",
              "      <td>1.3</td>\n",
              "      <td>0</td>\n",
              "    </tr>\n",
              "    <tr>\n",
              "      <th>1</th>\n",
              "      <td>35</td>\n",
              "      <td>26.9</td>\n",
              "      <td>7.2</td>\n",
              "      <td>2.0</td>\n",
              "      <td>6.7</td>\n",
              "      <td>29.6</td>\n",
              "      <td>0.7</td>\n",
              "      <td>2.8</td>\n",
              "      <td>23.5</td>\n",
              "      <td>2.6</td>\n",
              "      <td>3.4</td>\n",
              "      <td>76.5</td>\n",
              "      <td>0.5</td>\n",
              "      <td>2.0</td>\n",
              "      <td>2.4</td>\n",
              "      <td>3.7</td>\n",
              "      <td>1.1</td>\n",
              "      <td>0.5</td>\n",
              "      <td>1.6</td>\n",
              "      <td>0</td>\n",
              "    </tr>\n",
              "  </tbody>\n",
              "</table>\n",
              "</div>"
            ],
            "text/plain": [
              "   GP   MIN  PTS  FGM  FGA   FG%  3P Made  3PA   3P%  FTM  FTA   FT%  OREB  \\\n",
              "0  36  27.4  7.4  2.6  7.6  34.7      0.5  2.1  25.0  1.6  2.3  69.9   0.7   \n",
              "1  35  26.9  7.2  2.0  6.7  29.6      0.7  2.8  23.5  2.6  3.4  76.5   0.5   \n",
              "\n",
              "   DREB  REB  AST  STL  BLK  TOV  TARGET_5Yrs  \n",
              "0   3.4  4.1  1.9  0.4  0.4  1.3            0  \n",
              "1   2.0  2.4  3.7  1.1  0.5  1.6            0  "
            ]
          },
          "execution_count": 4,
          "metadata": {},
          "output_type": "execute_result"
        }
      ],
      "source": [
        "nba_rookies.head(2)"
      ]
    },
    {
      "cell_type": "code",
      "execution_count": 5,
      "metadata": {
        "colab": {
          "base_uri": "https://localhost:8080/"
        },
        "id": "INxDfezFYpPS",
        "outputId": "d95ec3b7-eeec-4839-dba5-d1f0a0ccf4fa"
      },
      "outputs": [
        {
          "name": "stdout",
          "output_type": "stream",
          "text": [
            "      GP   MIN  PTS  FGM  FGA   FG%  3P Made  3PA   3P%  FTM  FTA   FT%  OREB  \\\n",
            "0     36  27.4  7.4  2.6  7.6  34.7      0.5  2.1  25.0  1.6  2.3  69.9   0.7   \n",
            "1     35  26.9  7.2  2.0  6.7  29.6      0.7  2.8  23.5  2.6  3.4  76.5   0.5   \n",
            "2     74  15.3  5.2  2.0  4.7  42.2      0.4  1.7  24.4  0.9  1.3  67.0   0.5   \n",
            "3     58  11.6  5.7  2.3  5.5  42.6      0.1  0.5  22.6  0.9  1.3  68.9   1.0   \n",
            "4     48  11.5  4.5  1.6  3.0  52.4      0.0  0.1   0.0  1.3  1.9  67.4   1.0   \n",
            "...   ..   ...  ...  ...  ...   ...      ...  ...   ...  ...  ...   ...   ...   \n",
            "1279  80  15.8  4.3  1.6  3.6  43.3      0.0  0.2  14.3  1.2  1.5  79.2   0.4   \n",
            "1280  68  12.6  3.9  1.5  4.1  35.8      0.1  0.7  16.7  0.8  1.0  79.4   0.4   \n",
            "1281  43  12.1  5.4  2.2  3.9  55.0      0.0  0.0   0.0  1.0  1.6  64.3   1.5   \n",
            "1282  52  12.0  4.5  1.7  3.8  43.9      0.0  0.2  10.0  1.2  1.8  62.5   0.2   \n",
            "1283  47  11.7  4.4  1.6  4.4  36.9      0.4  1.3  33.3  0.7  1.0  67.3   0.2   \n",
            "\n",
            "      DREB  REB  AST  STL  BLK  TOV  \n",
            "0      3.4  4.1  1.9  0.4  0.4  1.3  \n",
            "1      2.0  2.4  3.7  1.1  0.5  1.6  \n",
            "2      1.7  2.2  1.0  0.5  0.3  1.0  \n",
            "3      0.9  1.9  0.8  0.6  0.1  1.0  \n",
            "4      1.5  2.5  0.3  0.3  0.4  0.8  \n",
            "...    ...  ...  ...  ...  ...  ...  \n",
            "1279   0.8  1.2  2.5  0.6  0.2  0.8  \n",
            "1280   1.1  1.5  2.3  0.8  0.0  1.3  \n",
            "1281   2.3  3.8  0.3  0.3  0.4  0.9  \n",
            "1282   0.4  0.7  2.2  0.4  0.1  0.8  \n",
            "1283   0.7  0.9  1.4  0.7  0.1  0.9  \n",
            "\n",
            "[1284 rows x 19 columns]\n",
            "[[36.  27.4  7.4 ...  0.4  0.4  1.3]\n",
            " [35.  26.9  7.2 ...  1.1  0.5  1.6]\n",
            " [74.  15.3  5.2 ...  0.5  0.3  1. ]\n",
            " ...\n",
            " [43.  12.1  5.4 ...  0.3  0.4  0.9]\n",
            " [52.  12.   4.5 ...  0.4  0.1  0.8]\n",
            " [47.  11.7  4.4 ...  0.7  0.1  0.9]]\n",
            "[0 0 0 ... 0 1 1]\n"
          ]
        }
      ],
      "source": [
        "# Separando atributos predictores (X) del atributo objetivo (y)\n",
        "dataset = nba_rookies.iloc[:,:-1].values\n",
        "targets = nba_rookies['TARGET_5Yrs'].values\n",
        "\n",
        "print(nba_rookies.iloc[:,:-1])\n",
        "print(dataset)\n",
        "print(targets)\n",
        "\n",
        "# dividiendo los datos de entrenamiento y validación\n",
        "X_train, X_test, y_train, y_test = train_test_split(dataset, targets, test_size=.30,\n",
        "                                                    random_state=15, stratify=targets)"
      ]
    },
    {
      "cell_type": "code",
      "execution_count": 6,
      "metadata": {
        "colab": {
          "base_uri": "https://localhost:8080/"
        },
        "id": "HDH2xJZUPzRT",
        "outputId": "15838966-0df3-4ab0-d2b4-40f58c558773"
      },
      "outputs": [
        {
          "name": "stdout",
          "output_type": "stream",
          "text": [
            "       MIN  PTS\n",
            "0     27.4  7.4\n",
            "1     26.9  7.2\n",
            "2     15.3  5.2\n",
            "3     11.6  5.7\n",
            "4     11.5  4.5\n",
            "...    ...  ...\n",
            "1279  15.8  4.3\n",
            "1280  12.6  3.9\n",
            "1281  12.1  5.4\n",
            "1282  12.0  4.5\n",
            "1283  11.7  4.4\n",
            "\n",
            "[1284 rows x 2 columns]\n",
            "[[27.4  7.4]\n",
            " [26.9  7.2]\n",
            " [15.3  5.2]\n",
            " ...\n",
            " [12.1  5.4]\n",
            " [12.   4.5]\n",
            " [11.7  4.4]]\n",
            "(1284, 2)\n"
          ]
        }
      ],
      "source": [
        "print(nba_rookies[[\"MIN\", \"PTS\"]])\n",
        "print(nba_rookies[[\"MIN\", \"PTS\"]].values)\n",
        "print(nba_rookies[[\"MIN\", \"PTS\"]].values.shape)"
      ]
    },
    {
      "cell_type": "markdown",
      "metadata": {
        "id": "-XnXy9a7XADa"
      },
      "source": [
        "## GridSearchCV\n",
        "\n",
        "Una alternativa para seleccionar hiperparámetros es GridSearchCV, la cual considera exhaustivamente todas las combinaciones de parámetros. GridSearchCV recibe un `modelo: Model`, `param_dict: dict`, `scoring: str | list | dict` y un objeto `k_folds: KFold`. Ver la documentación en: https://scikit-learn.org/stable/modules/generated/sklearn.model_selection.GridSearchCV.html"
      ]
    },
    {
      "cell_type": "code",
      "execution_count": 7,
      "metadata": {
        "colab": {
          "base_uri": "https://localhost:8080/"
        },
        "id": "LlTj8btDI-ll",
        "outputId": "2104fd1b-5a84-4ada-aa0c-653cc52d7cd3"
      },
      "outputs": [
        {
          "name": "stdout",
          "output_type": "stream",
          "text": [
            "Mejor combinación de parámetros (sin scoring='f1'):\n",
            "{'n_neighbors': 10, 'weights': 'distance'}\n",
            "\n",
            "Classification Report:\n",
            "              precision    recall  f1-score   support\n",
            "\n",
            "           0       0.64      0.54      0.58       145\n",
            "           1       0.75      0.82      0.78       241\n",
            "\n",
            "    accuracy                           0.71       386\n",
            "   macro avg       0.69      0.68      0.68       386\n",
            "weighted avg       0.71      0.71      0.71       386\n",
            "\n"
          ]
        }
      ],
      "source": [
        "from sklearn.model_selection import GridSearchCV\n",
        "from sklearn.metrics import classification_report\n",
        "\n",
        "knn_param_dict = {\n",
        "  'n_neighbors': [1, 3, 5, 10],\n",
        "  'weights': ['uniform', 'distance']\n",
        "}\n",
        "\n",
        "knn_cv = GridSearchCV(KNeighborsClassifier(),\n",
        "                      param_grid=knn_param_dict,\n",
        "                      cv=5)\n",
        "\n",
        "knn_cv.fit(X_train, y_train)\n",
        "\n",
        "print(\"Mejor combinación de parámetros (sin scoring='f1'):\")\n",
        "print(knn_cv.best_params_)\n",
        "\n",
        "print(\"\\nClassification Report:\")\n",
        "y_pred = knn_cv.predict(X_test)\n",
        "print(classification_report(y_test, y_pred))"
      ]
    },
    {
      "cell_type": "code",
      "execution_count": 8,
      "metadata": {
        "colab": {
          "base_uri": "https://localhost:8080/"
        },
        "id": "2oXvuxZ5ZD9B",
        "outputId": "0c4cd9ed-d609-4bac-8f74-72d7eac3c0a6"
      },
      "outputs": [
        {
          "name": "stdout",
          "output_type": "stream",
          "text": [
            "Mejor combinación de parámetros (sin scoring='f1'):\n",
            "{'n_neighbors': 11, 'weights': 'distance'}\n",
            "\n",
            "Classification Report:\n",
            "              precision    recall  f1-score   support\n",
            "\n",
            "           0       0.68      0.59      0.63       145\n",
            "           1       0.77      0.83      0.80       241\n",
            "\n",
            "    accuracy                           0.74       386\n",
            "   macro avg       0.73      0.71      0.72       386\n",
            "weighted avg       0.74      0.74      0.74       386\n",
            "\n"
          ]
        }
      ],
      "source": [
        "from sklearn.model_selection import GridSearchCV\n",
        "from sklearn.metrics import classification_report\n",
        "import numpy as np\n",
        "\n",
        "knn_param_dict = {\n",
        "  'n_neighbors': np.arange(5, 16),\n",
        "  'weights': ['uniform', 'distance']\n",
        "}\n",
        "\n",
        "knn_cv = GridSearchCV(KNeighborsClassifier(),\n",
        "                      param_grid=knn_param_dict,\n",
        "                      cv=5)\n",
        "\n",
        "knn_cv.fit(X_train, y_train)\n",
        "\n",
        "print(\"Mejor combinación de parámetros (sin scoring='f1'):\")\n",
        "print(knn_cv.best_params_)\n",
        "\n",
        "print(\"\\nClassification Report:\")\n",
        "y_pred = knn_cv.predict(X_test)\n",
        "print(classification_report(y_test, y_pred))"
      ]
    },
    {
      "cell_type": "code",
      "execution_count": 9,
      "metadata": {
        "colab": {
          "base_uri": "https://localhost:8080/"
        },
        "id": "WkDmacIUaX5t",
        "outputId": "ce238f93-98d2-4adb-eb91-83924980cac5"
      },
      "outputs": [
        {
          "data": {
            "text/plain": [
              "array([ 5,  6,  7,  8,  9, 10, 11, 12, 13, 14, 15])"
            ]
          },
          "execution_count": 9,
          "metadata": {},
          "output_type": "execute_result"
        }
      ],
      "source": [
        "np.arange(5, 16)"
      ]
    },
    {
      "cell_type": "code",
      "execution_count": 10,
      "metadata": {
        "colab": {
          "base_uri": "https://localhost:8080/"
        },
        "id": "okMRnraTRKoE",
        "outputId": "1200a553-6587-412d-854a-6a6b72574eee"
      },
      "outputs": [
        {
          "data": {
            "text/plain": [
              "TARGET_5Yrs\n",
              "1    802\n",
              "0    482\n",
              "Name: count, dtype: int64"
            ]
          },
          "execution_count": 10,
          "metadata": {},
          "output_type": "execute_result"
        }
      ],
      "source": [
        "nba_rookies['TARGET_5Yrs'].value_counts()"
      ]
    },
    {
      "cell_type": "markdown",
      "metadata": {
        "id": "BX8g3y2zXADd"
      },
      "source": [
        "**Pregunta 3**\n",
        "\n",
        "Al ejecutar el bloque de código anterior, ¿Qué puede decir de los resultados, con cuáles parámetros los obtuvo? ¿Cuál considera que es la principal ventaja de aplicar GridSearchCV? ¿Considera que es necesario seguir explorando los parámetros?"
      ]
    },
    {
      "cell_type": "markdown",
      "metadata": {
        "id": "kXKBdWKoXADp"
      },
      "source": [
        "**Repuesta:**\n",
        "Los hiperparámetros optimizados para KNN (tuned) fueron `n_neighbors` y `weights`.\n",
        "\n",
        "Los resultados indican que con `\"n_neighbors\"=10` y `\"weights\": \"distance\"` se obtienen los mejores resultados.\n",
        "\n",
        "La principal ventaja de `GridSearchCV` es que identifica el valor de hiperparámetros que permite maximizar el resultado respecto a las clases target.\n",
        "\n",
        "Explorando mejor los valores cerca del `10` obtenido al principio, se obtiene un mejor hiperparámetro `n_neighbors=11`."
      ]
    },
    {
      "cell_type": "markdown",
      "metadata": {
        "id": "Rf4BSIjTXADq"
      },
      "source": [
        "# Trabajar con clases desbalanceadas"
      ]
    },
    {
      "cell_type": "markdown",
      "metadata": {
        "id": "W3fb8kQ7XADq"
      },
      "source": [
        "Al explorar el dataset anterior, se nota un desbalance importante (38%-62%). Para mejorar el rendimiento de un clasificador sobre clases desbalanceadas existen varias técnicas. En esta parte, veremos cómo tratar con este problema usando (sub/over) sampling de las clases."
      ]
    },
    {
      "cell_type": "markdown",
      "metadata": {
        "ExecuteTime": {
          "end_time": "2020-09-28T00:36:22.116129Z",
          "start_time": "2020-09-28T00:36:22.111116Z"
        },
        "id": "QFNMUPd-XADu"
      },
      "source": [
        "Note el desbalance de las clases ejecutando el siguiente código:"
      ]
    },
    {
      "cell_type": "code",
      "execution_count": 11,
      "metadata": {
        "colab": {
          "base_uri": "https://localhost:8080/"
        },
        "id": "nF00b3sgJQjN",
        "outputId": "8433a2c8-37d5-4b98-c9f4-e6cf34e9fa02"
      },
      "outputs": [
        {
          "name": "stdout",
          "output_type": "stream",
          "text": [
            "Distribucion de clases original:\n",
            "TARGET_5Yrs\n",
            "1    802\n",
            "0    482\n",
            "Name: count, dtype: int64\n",
            "TARGET_5Yrs\n",
            "1    62.461059\n",
            "0    37.538941\n",
            "Name: count, dtype: float64\n"
          ]
        }
      ],
      "source": [
        "print(\"Distribucion de clases original:\")\n",
        "print(nba_rookies['TARGET_5Yrs'].value_counts())\n",
        "print(nba_rookies['TARGET_5Yrs'].value_counts() / len(nba_rookies) * 100)"
      ]
    },
    {
      "cell_type": "markdown",
      "metadata": {
        "id": "nlMr6-9GXADx"
      },
      "source": [
        "Antes de hacer algo para tratar el desbalance entre las clases primero debemos dividir en train-test. Como ya hicimos la partición de train y test, vamos a explorarla a continuación."
      ]
    },
    {
      "cell_type": "code",
      "execution_count": 12,
      "metadata": {
        "colab": {
          "base_uri": "https://localhost:8080/"
        },
        "id": "ExmvizChJV3l",
        "outputId": "9531c637-1a7d-440a-ea57-7406046191e3"
      },
      "outputs": [
        {
          "name": "stdout",
          "output_type": "stream",
          "text": [
            "Cantidad de instancias por clase en el y_train_imb:\n",
            "Clase 1: 561\n",
            "Clase 0: 337\n"
          ]
        }
      ],
      "source": [
        "# Dividimos igual que arriba.\n",
        "# Para facilitar el balance manual, X contendrá el dataset completo, pero luego eliminaremos de éste el atributo objetivo.\n",
        "\n",
        "X_train_imb, X_test_imb, y_train_imb, y_test_imb = train_test_split(\n",
        "    nba_rookies,\n",
        "    nba_rookies['TARGET_5Yrs'],\n",
        "    test_size=.30,\n",
        "    random_state=15,\n",
        "    stratify=nba_rookies['TARGET_5Yrs'])\n",
        "\n",
        "print(\"Cantidad de instancias por clase en el y_train_imb:\")\n",
        "print(\"Clase 1: \" + str((y_train_imb == 1).sum()))\n",
        "print(\"Clase 0: \" + str((y_train_imb == 0).sum()))"
      ]
    },
    {
      "cell_type": "markdown",
      "metadata": {
        "id": "q_X5CY14XAD3"
      },
      "source": [
        "\n",
        "Aplicaremos **oversampling** y **subsampling** al train para que queden balanceados. Ejecute el siguiente código y note ahora que las clases están balanceadas."
      ]
    },
    {
      "cell_type": "code",
      "execution_count": 13,
      "metadata": {
        "colab": {
          "base_uri": "https://localhost:8080/"
        },
        "id": "jYcvFoVAJaas",
        "outputId": "821101aa-65a4-4da8-e3dc-e43b568eb676"
      },
      "outputs": [
        {
          "name": "stdout",
          "output_type": "stream",
          "text": [
            "Distribución de clases usando (over/sub) sampling: \n",
            "\n",
            "random_index_subset_0: 224\n",
            "Data oversampled on class '0'\n",
            "TARGET_5Yrs\n",
            "1    561\n",
            "0    561\n",
            "Name: count, dtype: int64 \n",
            "\n",
            "random_index_subset_1: 224\n",
            "Data undersampled on class '1'\n",
            "TARGET_5Yrs\n",
            "0    337\n",
            "1    337\n",
            "Name: count, dtype: int64\n"
          ]
        }
      ],
      "source": [
        "print(\"Distribución de clases usando (over/sub) sampling: \\n\")\n",
        "X_train_imb = X_train_imb.reset_index(drop=True) # resets the index column with a new sequence\n",
        "\n",
        "### Oversampling sobre la clase 0\n",
        "target_5yrs_no = X_train_imb[X_train_imb['TARGET_5Yrs'] == 0]\n",
        "random_index_subset_0 = np.random.choice(target_5yrs_no.index, size=224)\n",
        "print(\"random_index_subset_0:\", len(random_index_subset_0))\n",
        "\n",
        "# print(len(X_train_imb.index), \" + \", len(random_index_subset_0))\n",
        "oversampled_data = pd.concat([X_train_imb, X_train_imb.iloc[random_index_subset_0]])\n",
        "print(\"Data oversampled on class '0'\")\n",
        "print(oversampled_data['TARGET_5Yrs'].value_counts(), \"\\n\")\n",
        "\n",
        "### Subsampling sobre la clase 1\n",
        "target_5yrs_yes = X_train_imb[X_train_imb['TARGET_5Yrs'] == 1]\n",
        "random_index_subset_1 = np.random.choice(target_5yrs_yes.index, size=224, replace=False)\n",
        "print(\"random_index_subset_1:\", len(random_index_subset_1))\n",
        "\n",
        "# print(len(X_train_imb.index), \" + \", len(random_index_subset_1))\n",
        "undersampled_data = X_train_imb.drop(X_train_imb.iloc[random_index_subset_1].index)\n",
        "print(\"Data undersampled on class '1'\")\n",
        "print(undersampled_data['TARGET_5Yrs'].value_counts())"
      ]
    },
    {
      "cell_type": "markdown",
      "metadata": {
        "id": "urh4G7FhXAD6"
      },
      "source": [
        "**Nota:** *Librerías como `imbalanced-learn` son muy útiles para balancear los datos.*"
      ]
    },
    {
      "cell_type": "markdown",
      "metadata": {
        "id": "lNRoMB4bXAD6"
      },
      "source": [
        "**Pregunta 4**\n",
        "\n",
        "¿Por qué aplicar subsampling/oversampling de las clases sobre el conjunto de entrenamiento en lugar de aplicarlo sobre el dataset completo? Argumente su respuesta.\n",
        "\n",
        "**Respuesta:**\n",
        "\n",
        "Porque queremos solo afectar la data con la que entrenamos el modelo, no queremos sobrerepresentar las clases minoritarias en la data de prueba."
      ]
    },
    {
      "cell_type": "code",
      "execution_count": 14,
      "metadata": {
        "colab": {
          "base_uri": "https://localhost:8080/",
          "height": 424
        },
        "id": "lIkZ476lnYLA",
        "outputId": "e96e55f5-fd1a-4e03-9ec3-23b754d0708f"
      },
      "outputs": [
        {
          "data": {
            "text/html": [
              "<div>\n",
              "<style scoped>\n",
              "    .dataframe tbody tr th:only-of-type {\n",
              "        vertical-align: middle;\n",
              "    }\n",
              "\n",
              "    .dataframe tbody tr th {\n",
              "        vertical-align: top;\n",
              "    }\n",
              "\n",
              "    .dataframe thead th {\n",
              "        text-align: right;\n",
              "    }\n",
              "</style>\n",
              "<table border=\"1\" class=\"dataframe\">\n",
              "  <thead>\n",
              "    <tr style=\"text-align: right;\">\n",
              "      <th></th>\n",
              "      <th>GP</th>\n",
              "      <th>MIN</th>\n",
              "      <th>PTS</th>\n",
              "      <th>FGM</th>\n",
              "      <th>FGA</th>\n",
              "      <th>FG%</th>\n",
              "      <th>3P Made</th>\n",
              "      <th>3PA</th>\n",
              "      <th>3P%</th>\n",
              "      <th>FTM</th>\n",
              "      <th>FTA</th>\n",
              "      <th>FT%</th>\n",
              "      <th>OREB</th>\n",
              "      <th>DREB</th>\n",
              "      <th>REB</th>\n",
              "      <th>AST</th>\n",
              "      <th>STL</th>\n",
              "      <th>BLK</th>\n",
              "      <th>TOV</th>\n",
              "      <th>TARGET_5Yrs</th>\n",
              "    </tr>\n",
              "  </thead>\n",
              "  <tbody>\n",
              "    <tr>\n",
              "      <th>236</th>\n",
              "      <td>58</td>\n",
              "      <td>13.1</td>\n",
              "      <td>2.7</td>\n",
              "      <td>1.1</td>\n",
              "      <td>2.9</td>\n",
              "      <td>37.4</td>\n",
              "      <td>0.1</td>\n",
              "      <td>0.4</td>\n",
              "      <td>24.0</td>\n",
              "      <td>0.4</td>\n",
              "      <td>0.6</td>\n",
              "      <td>71.9</td>\n",
              "      <td>0.3</td>\n",
              "      <td>0.7</td>\n",
              "      <td>1.0</td>\n",
              "      <td>3.1</td>\n",
              "      <td>0.3</td>\n",
              "      <td>0.1</td>\n",
              "      <td>1.0</td>\n",
              "      <td>0</td>\n",
              "    </tr>\n",
              "    <tr>\n",
              "      <th>302</th>\n",
              "      <td>80</td>\n",
              "      <td>20.0</td>\n",
              "      <td>8.5</td>\n",
              "      <td>3.2</td>\n",
              "      <td>5.7</td>\n",
              "      <td>55.8</td>\n",
              "      <td>0.0</td>\n",
              "      <td>0.0</td>\n",
              "      <td>0.0</td>\n",
              "      <td>2.1</td>\n",
              "      <td>3.2</td>\n",
              "      <td>67.3</td>\n",
              "      <td>1.2</td>\n",
              "      <td>2.7</td>\n",
              "      <td>3.9</td>\n",
              "      <td>1.1</td>\n",
              "      <td>0.9</td>\n",
              "      <td>0.5</td>\n",
              "      <td>1.9</td>\n",
              "      <td>1</td>\n",
              "    </tr>\n",
              "    <tr>\n",
              "      <th>1117</th>\n",
              "      <td>71</td>\n",
              "      <td>15.5</td>\n",
              "      <td>7.6</td>\n",
              "      <td>2.5</td>\n",
              "      <td>5.9</td>\n",
              "      <td>41.7</td>\n",
              "      <td>0.7</td>\n",
              "      <td>1.9</td>\n",
              "      <td>37.5</td>\n",
              "      <td>1.9</td>\n",
              "      <td>2.3</td>\n",
              "      <td>81.9</td>\n",
              "      <td>0.7</td>\n",
              "      <td>1.2</td>\n",
              "      <td>1.9</td>\n",
              "      <td>1.3</td>\n",
              "      <td>0.7</td>\n",
              "      <td>0.3</td>\n",
              "      <td>1.6</td>\n",
              "      <td>1</td>\n",
              "    </tr>\n",
              "    <tr>\n",
              "      <th>735</th>\n",
              "      <td>59</td>\n",
              "      <td>24.4</td>\n",
              "      <td>8.8</td>\n",
              "      <td>3.3</td>\n",
              "      <td>8.7</td>\n",
              "      <td>38.1</td>\n",
              "      <td>1.3</td>\n",
              "      <td>4.0</td>\n",
              "      <td>33.2</td>\n",
              "      <td>0.8</td>\n",
              "      <td>1.0</td>\n",
              "      <td>82.5</td>\n",
              "      <td>0.3</td>\n",
              "      <td>2.7</td>\n",
              "      <td>3.0</td>\n",
              "      <td>1.3</td>\n",
              "      <td>0.4</td>\n",
              "      <td>0.1</td>\n",
              "      <td>1.1</td>\n",
              "      <td>1</td>\n",
              "    </tr>\n",
              "    <tr>\n",
              "      <th>130</th>\n",
              "      <td>82</td>\n",
              "      <td>19.1</td>\n",
              "      <td>9.1</td>\n",
              "      <td>3.6</td>\n",
              "      <td>9.2</td>\n",
              "      <td>39.7</td>\n",
              "      <td>0.1</td>\n",
              "      <td>0.5</td>\n",
              "      <td>27.3</td>\n",
              "      <td>1.7</td>\n",
              "      <td>3.1</td>\n",
              "      <td>55.0</td>\n",
              "      <td>1.3</td>\n",
              "      <td>2.4</td>\n",
              "      <td>3.8</td>\n",
              "      <td>0.9</td>\n",
              "      <td>0.7</td>\n",
              "      <td>0.7</td>\n",
              "      <td>1.6</td>\n",
              "      <td>1</td>\n",
              "    </tr>\n",
              "    <tr>\n",
              "      <th>...</th>\n",
              "      <td>...</td>\n",
              "      <td>...</td>\n",
              "      <td>...</td>\n",
              "      <td>...</td>\n",
              "      <td>...</td>\n",
              "      <td>...</td>\n",
              "      <td>...</td>\n",
              "      <td>...</td>\n",
              "      <td>...</td>\n",
              "      <td>...</td>\n",
              "      <td>...</td>\n",
              "      <td>...</td>\n",
              "      <td>...</td>\n",
              "      <td>...</td>\n",
              "      <td>...</td>\n",
              "      <td>...</td>\n",
              "      <td>...</td>\n",
              "      <td>...</td>\n",
              "      <td>...</td>\n",
              "      <td>...</td>\n",
              "    </tr>\n",
              "    <tr>\n",
              "      <th>118</th>\n",
              "      <td>82</td>\n",
              "      <td>31.5</td>\n",
              "      <td>11.4</td>\n",
              "      <td>5.2</td>\n",
              "      <td>11.3</td>\n",
              "      <td>46.1</td>\n",
              "      <td>0.3</td>\n",
              "      <td>1.0</td>\n",
              "      <td>27.7</td>\n",
              "      <td>0.8</td>\n",
              "      <td>1.3</td>\n",
              "      <td>58.9</td>\n",
              "      <td>0.7</td>\n",
              "      <td>2.0</td>\n",
              "      <td>2.6</td>\n",
              "      <td>6.8</td>\n",
              "      <td>1.6</td>\n",
              "      <td>0.3</td>\n",
              "      <td>1.7</td>\n",
              "      <td>1</td>\n",
              "    </tr>\n",
              "    <tr>\n",
              "      <th>696</th>\n",
              "      <td>82</td>\n",
              "      <td>32.5</td>\n",
              "      <td>15.3</td>\n",
              "      <td>5.3</td>\n",
              "      <td>13.4</td>\n",
              "      <td>39.8</td>\n",
              "      <td>0.4</td>\n",
              "      <td>1.6</td>\n",
              "      <td>27.1</td>\n",
              "      <td>4.3</td>\n",
              "      <td>5.2</td>\n",
              "      <td>81.5</td>\n",
              "      <td>2.2</td>\n",
              "      <td>2.7</td>\n",
              "      <td>4.9</td>\n",
              "      <td>5.3</td>\n",
              "      <td>1.3</td>\n",
              "      <td>0.2</td>\n",
              "      <td>3.3</td>\n",
              "      <td>1</td>\n",
              "    </tr>\n",
              "    <tr>\n",
              "      <th>62</th>\n",
              "      <td>79</td>\n",
              "      <td>37.7</td>\n",
              "      <td>18.0</td>\n",
              "      <td>6.9</td>\n",
              "      <td>16.5</td>\n",
              "      <td>42.2</td>\n",
              "      <td>0.0</td>\n",
              "      <td>0.1</td>\n",
              "      <td>27.3</td>\n",
              "      <td>4.1</td>\n",
              "      <td>5.5</td>\n",
              "      <td>73.6</td>\n",
              "      <td>2.4</td>\n",
              "      <td>6.4</td>\n",
              "      <td>8.8</td>\n",
              "      <td>4.0</td>\n",
              "      <td>1.4</td>\n",
              "      <td>1.1</td>\n",
              "      <td>2.9</td>\n",
              "      <td>1</td>\n",
              "    </tr>\n",
              "    <tr>\n",
              "      <th>681</th>\n",
              "      <td>63</td>\n",
              "      <td>11.2</td>\n",
              "      <td>3.9</td>\n",
              "      <td>1.7</td>\n",
              "      <td>3.4</td>\n",
              "      <td>49.5</td>\n",
              "      <td>0.0</td>\n",
              "      <td>0.0</td>\n",
              "      <td>0.0</td>\n",
              "      <td>0.5</td>\n",
              "      <td>0.8</td>\n",
              "      <td>64.6</td>\n",
              "      <td>0.9</td>\n",
              "      <td>1.7</td>\n",
              "      <td>2.5</td>\n",
              "      <td>0.2</td>\n",
              "      <td>0.4</td>\n",
              "      <td>0.3</td>\n",
              "      <td>0.2</td>\n",
              "      <td>1</td>\n",
              "    </tr>\n",
              "    <tr>\n",
              "      <th>1003</th>\n",
              "      <td>81</td>\n",
              "      <td>37.0</td>\n",
              "      <td>20.1</td>\n",
              "      <td>7.8</td>\n",
              "      <td>16.1</td>\n",
              "      <td>48.2</td>\n",
              "      <td>0.0</td>\n",
              "      <td>0.0</td>\n",
              "      <td>0.0</td>\n",
              "      <td>4.5</td>\n",
              "      <td>6.6</td>\n",
              "      <td>68.5</td>\n",
              "      <td>4.3</td>\n",
              "      <td>5.7</td>\n",
              "      <td>10.0</td>\n",
              "      <td>1.9</td>\n",
              "      <td>0.8</td>\n",
              "      <td>1.6</td>\n",
              "      <td>2.8</td>\n",
              "      <td>1</td>\n",
              "    </tr>\n",
              "  </tbody>\n",
              "</table>\n",
              "<p>386 rows × 20 columns</p>\n",
              "</div>"
            ],
            "text/plain": [
              "      GP   MIN   PTS  FGM   FGA   FG%  3P Made  3PA   3P%  FTM  FTA   FT%  \\\n",
              "236   58  13.1   2.7  1.1   2.9  37.4      0.1  0.4  24.0  0.4  0.6  71.9   \n",
              "302   80  20.0   8.5  3.2   5.7  55.8      0.0  0.0   0.0  2.1  3.2  67.3   \n",
              "1117  71  15.5   7.6  2.5   5.9  41.7      0.7  1.9  37.5  1.9  2.3  81.9   \n",
              "735   59  24.4   8.8  3.3   8.7  38.1      1.3  4.0  33.2  0.8  1.0  82.5   \n",
              "130   82  19.1   9.1  3.6   9.2  39.7      0.1  0.5  27.3  1.7  3.1  55.0   \n",
              "...   ..   ...   ...  ...   ...   ...      ...  ...   ...  ...  ...   ...   \n",
              "118   82  31.5  11.4  5.2  11.3  46.1      0.3  1.0  27.7  0.8  1.3  58.9   \n",
              "696   82  32.5  15.3  5.3  13.4  39.8      0.4  1.6  27.1  4.3  5.2  81.5   \n",
              "62    79  37.7  18.0  6.9  16.5  42.2      0.0  0.1  27.3  4.1  5.5  73.6   \n",
              "681   63  11.2   3.9  1.7   3.4  49.5      0.0  0.0   0.0  0.5  0.8  64.6   \n",
              "1003  81  37.0  20.1  7.8  16.1  48.2      0.0  0.0   0.0  4.5  6.6  68.5   \n",
              "\n",
              "      OREB  DREB   REB  AST  STL  BLK  TOV  TARGET_5Yrs  \n",
              "236    0.3   0.7   1.0  3.1  0.3  0.1  1.0            0  \n",
              "302    1.2   2.7   3.9  1.1  0.9  0.5  1.9            1  \n",
              "1117   0.7   1.2   1.9  1.3  0.7  0.3  1.6            1  \n",
              "735    0.3   2.7   3.0  1.3  0.4  0.1  1.1            1  \n",
              "130    1.3   2.4   3.8  0.9  0.7  0.7  1.6            1  \n",
              "...    ...   ...   ...  ...  ...  ...  ...          ...  \n",
              "118    0.7   2.0   2.6  6.8  1.6  0.3  1.7            1  \n",
              "696    2.2   2.7   4.9  5.3  1.3  0.2  3.3            1  \n",
              "62     2.4   6.4   8.8  4.0  1.4  1.1  2.9            1  \n",
              "681    0.9   1.7   2.5  0.2  0.4  0.3  0.2            1  \n",
              "1003   4.3   5.7  10.0  1.9  0.8  1.6  2.8            1  \n",
              "\n",
              "[386 rows x 20 columns]"
            ]
          },
          "execution_count": 14,
          "metadata": {},
          "output_type": "execute_result"
        }
      ],
      "source": [
        "X_test_imb"
      ]
    },
    {
      "cell_type": "code",
      "execution_count": 15,
      "metadata": {
        "id": "Mich8PsMQ3uw"
      },
      "outputs": [],
      "source": [
        "## ejecutar este código para preparar los datos\n",
        "from sklearn.metrics import classification_report\n",
        "\n",
        "# Preparando los data frames para ser compatibles con sklearn\n",
        "\n",
        "# datos test (mismo para todos los conjuntos de entrenamiento)\n",
        "X_test, y_test = X_test_imb[X_train_imb.columns[:-1]], X_test_imb['TARGET_5Yrs']\n",
        "\n",
        "# datos entrenamiento \"originales\"\n",
        "X_train_orig = X_train_imb[X_train_imb.columns[:-1]]\n",
        "y_train_orig = X_train_imb[X_train_imb.columns[-1]]\n",
        "\n",
        "# datos entrenamiento oversampleados\n",
        "X_train_over = oversampled_data[X_train_imb.columns[:-1]]\n",
        "y_train_over = oversampled_data[X_train_imb.columns[-1]]\n",
        "\n",
        "# datos entrenamiento undersampleados\n",
        "X_train_under = undersampled_data[X_train_imb.columns[:-1]]\n",
        "y_train_under = undersampled_data[X_train_imb.columns[-1]]\n"
      ]
    },
    {
      "cell_type": "markdown",
      "metadata": {
        "id": "AWA7_lHxXAD7"
      },
      "source": [
        "**Pregunta 5**\n",
        "\n",
        "Complete el código necesario para entrenar un clasificador KNeighbors en cada uno de los tres casos (**original**, con **oversampling** y con **subsampling**) y luego compare los resultados sobre el conjunto de test (este es el mismo para los tres casos) obtenido con train_test_split sobre los datos originales. Muestre Precision, Recall y F1-score.\n",
        "\n",
        "Emplee como datos de entrada lo del bloque anterior."
      ]
    },
    {
      "cell_type": "code",
      "execution_count": 16,
      "metadata": {
        "colab": {
          "base_uri": "https://localhost:8080/"
        },
        "id": "WyKUO7bdJuDk",
        "outputId": "342ae1b8-9b62-45ed-a654-a68d49d369c0"
      },
      "outputs": [
        {
          "name": "stdout",
          "output_type": "stream",
          "text": [
            "==ORIGINAL==\n",
            "              precision    recall  f1-score   support\n",
            "\n",
            "           0       0.60      0.54      0.57       145\n",
            "           1       0.74      0.78      0.76       241\n",
            "\n",
            "    accuracy                           0.69       386\n",
            "   macro avg       0.67      0.66      0.66       386\n",
            "weighted avg       0.69      0.69      0.69       386\n",
            "\n",
            "==n_neighbors OPTIMIZED==\n",
            "              precision    recall  f1-score   support\n",
            "\n",
            "           0       0.67      0.59      0.62       145\n",
            "           1       0.77      0.83      0.80       241\n",
            "\n",
            "    accuracy                           0.74       386\n",
            "   macro avg       0.72      0.71      0.71       386\n",
            "weighted avg       0.73      0.74      0.73       386\n",
            "\n",
            "==OVERSAMPLED==\n",
            "              precision    recall  f1-score   support\n",
            "\n",
            "           0       0.55      0.68      0.60       145\n",
            "           1       0.77      0.66      0.71       241\n",
            "\n",
            "    accuracy                           0.67       386\n",
            "   macro avg       0.66      0.67      0.66       386\n",
            "weighted avg       0.69      0.67      0.67       386\n",
            "\n",
            "==UNDERSAMPLED==\n",
            "              precision    recall  f1-score   support\n",
            "\n",
            "           0       0.57      0.70      0.63       145\n",
            "           1       0.79      0.68      0.73       241\n",
            "\n",
            "    accuracy                           0.69       386\n",
            "   macro avg       0.68      0.69      0.68       386\n",
            "weighted avg       0.71      0.69      0.69       386\n",
            "\n"
          ]
        }
      ],
      "source": [
        "from sklearn.neighbors import KNeighborsClassifier\n",
        "\n",
        "## Pasos:\n",
        "##  - instanciar el clasificador con KNeighborsClassifier()\n",
        "##  - entrenar con fit()\n",
        "##  - hacer las predicciones\n",
        "##  - mostrar precision, recall y f1-score con classification report.\n",
        "\n",
        "print(\"==ORIGINAL==\")\n",
        "knn = KNeighborsClassifier()\n",
        "knn.fit(X_train_orig, y_train_orig)\n",
        "y_pred_original = knn.predict(X_test)\n",
        "print(classification_report(y_test, y_pred_original))\n",
        "\n",
        "print(\"==n_neighbors OPTIMIZED==\")\n",
        "knn = KNeighborsClassifier(n_neighbors=11)\n",
        "knn.fit(X_train_orig, y_train_orig)\n",
        "y_pred_original = knn.predict(X_test)\n",
        "print(classification_report(y_test, y_pred_original))\n",
        "\n",
        "print(\"==OVERSAMPLED==\")\n",
        "knn = KNeighborsClassifier(n_neighbors=11)\n",
        "knn.fit(X_train_over, y_train_over)\n",
        "y_pred_over = knn.predict(X_test)\n",
        "print(classification_report(y_test, y_pred_over))\n",
        "\n",
        "print(\"==UNDERSAMPLED==\")\n",
        "knn = KNeighborsClassifier(n_neighbors=11)\n",
        "knn.fit(X_train_under, y_train_under)\n",
        "y_pred_under = knn.predict(X_test)\n",
        "print(classification_report(y_test, y_pred_under))"
      ]
    },
    {
      "cell_type": "markdown",
      "metadata": {
        "id": "5XkE5zruXAD-"
      },
      "source": [
        "**Pregunta 6**\n",
        "\n",
        "- Observe los resultados obtenidos por clase con cada conjunto de entrenamiento, ¿se puede observar alguna diferencia importante?\n",
        "- Indique una desventaja de usar oversampling y una desventaja de usar subsampling en clasificación."
      ]
    },
    {
      "cell_type": "markdown",
      "metadata": {
        "id": "CT_8XDc6XAD-"
      },
      "source": [
        "**Respuesta**\n",
        "\n"
      ]
    },
    {
      "cell_type": "markdown",
      "metadata": {
        "id": "P-Tqzk7CYpPW"
      },
      "source": [
        "**Pregunta 7**\n",
        "\n",
        "Compare los resultados del caso **ORIGINAL** (donde el clasificador usa los parámetros por defecto KNeighborsClassifier()) versus el resultado de la pregunta 3 donde usa los mejores parámetros con GridSearchCV. ¿Qué opina de los resultados?"
      ]
    },
    {
      "cell_type": "markdown",
      "metadata": {
        "id": "tKDtOVcRYpPW"
      },
      "source": [
        "**Respuesta**\n"
      ]
    },
    {
      "cell_type": "code",
      "execution_count": null,
      "metadata": {
        "id": "vNCzhvPWeC1l"
      },
      "outputs": [],
      "source": []
    }
  ],
  "metadata": {
    "anaconda-cloud": {},
    "colab": {
      "provenance": []
    },
    "hide_input": false,
    "kernelspec": {
      "display_name": "Python 3 (ipykernel)",
      "language": "python",
      "name": "python3"
    },
    "language_info": {
      "codemirror_mode": {
        "name": "ipython",
        "version": 3
      },
      "file_extension": ".py",
      "mimetype": "text/x-python",
      "name": "python",
      "nbconvert_exporter": "python",
      "pygments_lexer": "ipython3",
      "version": "3.12.2"
    },
    "toc": {
      "base_numbering": 1,
      "nav_menu": {},
      "number_sections": true,
      "sideBar": true,
      "skip_h1_title": false,
      "title_cell": "Table of Contents",
      "title_sidebar": "Contents",
      "toc_cell": false,
      "toc_position": {},
      "toc_section_display": true,
      "toc_window_display": false
    },
    "varInspector": {
      "cols": {
        "lenName": 16,
        "lenType": 16,
        "lenVar": 40
      },
      "kernels_config": {
        "python": {
          "delete_cmd_postfix": "",
          "delete_cmd_prefix": "del ",
          "library": "var_list.py",
          "varRefreshCmd": "print(var_dic_list())"
        },
        "r": {
          "delete_cmd_postfix": ") ",
          "delete_cmd_prefix": "rm(",
          "library": "var_list.r",
          "varRefreshCmd": "cat(var_dic_list()) "
        }
      },
      "types_to_exclude": [
        "module",
        "function",
        "builtin_function_or_method",
        "instance",
        "_Feature"
      ],
      "window_display": false
    }
  },
  "nbformat": 4,
  "nbformat_minor": 0
}
